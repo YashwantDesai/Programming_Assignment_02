{
 "cells": [
  {
   "cell_type": "markdown",
   "id": "0c27a818",
   "metadata": {},
   "source": [
    "# Yashwant Desai –  Programming_Assingment 02"
   ]
  },
  {
   "cell_type": "markdown",
   "id": "693799f7",
   "metadata": {},
   "source": [
    "# 1.\tWrite a Python program to convert kilometers to miles?"
   ]
  },
  {
   "cell_type": "code",
   "execution_count": 1,
   "id": "37dc7ab1",
   "metadata": {},
   "outputs": [
    {
     "name": "stdout",
     "output_type": "stream",
     "text": [
      "Enter the distance in kilometers: 2\n",
      "2.0 kilometers is equal to 1.24 miles.\n"
     ]
    }
   ],
   "source": [
    "kilometers = float(input(\"Enter the distance in kilometers: \"))\n",
    "miles = kilometers * 0.621371\n",
    "print(f\"{kilometers} kilometers is equal to {miles:.2f} miles.\")"
   ]
  },
  {
   "cell_type": "markdown",
   "id": "87675e46",
   "metadata": {},
   "source": [
    "# 2.\tWrite a Python program to convert Celsius to Fahrenheit?"
   ]
  },
  {
   "cell_type": "code",
   "execution_count": 2,
   "id": "706936d7",
   "metadata": {},
   "outputs": [
    {
     "name": "stdout",
     "output_type": "stream",
     "text": [
      "Enter the Celsius temperature : 30\n",
      "30.0 Celsius is equal to 86.00 fahrenheit.\n"
     ]
    }
   ],
   "source": [
    "Celsius = float(input(\"Enter the Celsius temperature : \"))\n",
    "Fahrenheit = (Celsius * 9/5) + 32\n",
    "print(f\"{Celsius} Celsius is equal to {Fahrenheit:.2f} fahrenheit.\")"
   ]
  },
  {
   "cell_type": "markdown",
   "id": "b10c78dc",
   "metadata": {},
   "source": [
    "# 3.\tWrite a Python program to display calendar?"
   ]
  },
  {
   "cell_type": "code",
   "execution_count": 3,
   "id": "c7f479bb",
   "metadata": {},
   "outputs": [
    {
     "name": "stdout",
     "output_type": "stream",
     "text": [
      "Enter the year: 2023\n",
      "Enter the month (1-12): 7\n",
      "Calendar for July 2023:\n",
      "\n",
      "     July 2023\n",
      "Mo Tu We Th Fr Sa Su\n",
      "                1  2\n",
      " 3  4  5  6  7  8  9\n",
      "10 11 12 13 14 15 16\n",
      "17 18 19 20 21 22 23\n",
      "24 25 26 27 28 29 30\n",
      "31\n",
      "\n"
     ]
    }
   ],
   "source": [
    "import calendar\n",
    "\n",
    "def display_calendar(year, month):\n",
    "    cal = calendar.month(year, month)\n",
    "    print(f\"Calendar for {calendar.month_name[month]} {year}:\\n\")\n",
    "    print(cal)\n",
    "year = int(input(\"Enter the year: \"))\n",
    "month = int(input(\"Enter the month (1-12): \"))\n",
    "display_calendar(year, month)"
   ]
  },
  {
   "cell_type": "markdown",
   "id": "d36954e9",
   "metadata": {},
   "source": [
    "# 4.\tWrite a Python program to solve quadratic equation?"
   ]
  },
  {
   "cell_type": "code",
   "execution_count": 4,
   "id": "8e782f30",
   "metadata": {},
   "outputs": [
    {
     "name": "stdout",
     "output_type": "stream",
     "text": [
      "Enter the coefficient of x^2: 4\n",
      "Enter the coefficient of x: 3\n",
      "Enter the constant term: 5\n",
      "Complex roots:\n",
      "Root 1: (-0.375+1.0532687216470449j)\n",
      "Root 2: (-0.375-1.0532687216470449j)\n"
     ]
    }
   ],
   "source": [
    "import math\n",
    "\n",
    "try:\n",
    "    a = float(input(\"Enter the coefficient of x^2: \"))\n",
    "    b = float(input(\"Enter the coefficient of x: \"))\n",
    "    c = float(input(\"Enter the constant term: \"))\n",
    "    discriminant = b**2 - 4*a*c\n",
    "\n",
    "    if discriminant > 0:\n",
    "        root1 = (-b + math.sqrt(discriminant)) / (2*a)\n",
    "        root2 = (-b - math.sqrt(discriminant)) / (2*a)\n",
    "        print(\"Real roots:\")\n",
    "        print(f\"Root 1: {root1}\")\n",
    "        print(f\"Root 2: {root2}\")\n",
    "    elif discriminant == 0:\n",
    "        root = -b / (2*a)\n",
    "        print(\"Real root:\")\n",
    "        print(f\"Root: {root}\")\n",
    "    else:\n",
    "        real_part = -b / (2*a)\n",
    "        imaginary_part = math.sqrt(abs(discriminant)) / (2*a)\n",
    "        root1 = complex(real_part, imaginary_part)\n",
    "        root2 = complex(real_part, -imaginary_part)\n",
    "        print(\"Complex roots:\")\n",
    "        print(f\"Root 1: {root1}\")\n",
    "        print(f\"Root 2: {root2}\")\n",
    "except ValueError:\n",
    "    print(\"Invalid input. Please enter valid numbers for coefficients.\")"
   ]
  },
  {
   "cell_type": "markdown",
   "id": "7bbc3eae",
   "metadata": {},
   "source": [
    "# 5.\tWrite a Python program to swap two variables without temp variable?"
   ]
  },
  {
   "cell_type": "code",
   "execution_count": 5,
   "id": "aa609336",
   "metadata": {},
   "outputs": [
    {
     "name": "stdout",
     "output_type": "stream",
     "text": [
      "Enter number for first variable: 50\n",
      "Enter number for second variable: 90\n",
      "Before swapping: a = 50.0, b = 90.0\n",
      "After swapping: a = 90.0, b = 50.0\n"
     ]
    }
   ],
   "source": [
    "num1 = float(input(\"Enter number for first variable: \"))\n",
    "num2 = float(input(\"Enter number for second variable: \"))\n",
    "a = num1\n",
    "b = num2\n",
    "print(f\"Before swapping: a = {a}, b = {b}\")\n",
    "a = num2\n",
    "b = num1\n",
    "print(f\"After swapping: a = {a}, b = {b}\")"
   ]
  },
  {
   "cell_type": "markdown",
   "id": "a79c0885",
   "metadata": {},
   "source": [
    "# Done Regards,Yashwant"
   ]
  }
 ],
 "metadata": {
  "kernelspec": {
   "display_name": "Python 3 (ipykernel)",
   "language": "python",
   "name": "python3"
  },
  "language_info": {
   "codemirror_mode": {
    "name": "ipython",
    "version": 3
   },
   "file_extension": ".py",
   "mimetype": "text/x-python",
   "name": "python",
   "nbconvert_exporter": "python",
   "pygments_lexer": "ipython3",
   "version": "3.9.13"
  }
 },
 "nbformat": 4,
 "nbformat_minor": 5
}
